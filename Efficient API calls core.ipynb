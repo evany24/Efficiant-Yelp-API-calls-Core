{
 "cells": [
  {
   "cell_type": "markdown",
   "id": "e631924b",
   "metadata": {},
   "source": [
    "# Efficient Yelp API Calls\n",
    "For this assignment, you will be working with the Yelp API.\n",
    "\n",
    "As before, you will use the Yelp API to search your favorite city for a cuisine type of your choice.\n",
    "\n",
    "Extract all of the results from your search and compile them into one dataframe using a for loop as shown in the lesson \"Code for Efficient API Extraction\"\n",
    "\n",
    "Save your notebook, commit the change to your repository and submit the repository URL for this assignment."
   ]
  },
  {
   "cell_type": "markdown",
   "id": "8eba002b",
   "metadata": {},
   "source": [
    "## Credentials and Accessing the API"
   ]
  },
  {
   "cell_type": "code",
   "execution_count": 53,
   "id": "b2e4aa87",
   "metadata": {},
   "outputs": [],
   "source": [
    "import pandas as pd\n",
    "import numpy as np\n",
    "import pandas as pd\n",
    "import matplotlib.pyplot as plt\n",
    "import seaborn as sns\n",
    "import os, json, math, time\n",
    "from yelpapi import YelpAPI\n",
    "from tqdm.notebook import tqdm_notebook"
   ]
  },
  {
   "cell_type": "code",
   "execution_count": 4,
   "id": "c4db66e3",
   "metadata": {},
   "outputs": [
    {
     "data": {
      "text/plain": [
       "dict_keys(['client-id', 'api-key'])"
      ]
     },
     "execution_count": 4,
     "metadata": {},
     "output_type": "execute_result"
    }
   ],
   "source": [
    "with open('/Users/Evan/.secret/yelp_api.json') as f:\n",
    "    login = json.load(f)\n",
    "login.keys()\n",
    "\n"
   ]
  },
  {
   "cell_type": "code",
   "execution_count": 5,
   "id": "091e0684",
   "metadata": {},
   "outputs": [
    {
     "data": {
      "text/plain": [
       "<yelpapi.yelpapi.YelpAPI at 0x1c8f24f72e0>"
      ]
     },
     "execution_count": 5,
     "metadata": {},
     "output_type": "execute_result"
    }
   ],
   "source": [
    "# Create an instance with your key\n",
    "yelp_api = YelpAPI(login['api-key'], timeout_s=5.0)\n",
    "yelp_api"
   ]
  },
  {
   "cell_type": "code",
   "execution_count": 14,
   "id": "911cc471",
   "metadata": {},
   "outputs": [],
   "source": [
    "# set our API call parameters \n",
    "LOCATION = 'Philadelphia, PA'\n",
    "TERM = 'Steak'\n"
   ]
  },
  {
   "cell_type": "code",
   "execution_count": 15,
   "id": "ee7ccb37",
   "metadata": {},
   "outputs": [
    {
     "name": "stdout",
     "output_type": "stream",
     "text": [
      "<class 'dict'>\n"
     ]
    },
    {
     "data": {
      "text/plain": [
       "dict_keys(['businesses', 'total', 'region'])"
      ]
     },
     "execution_count": 15,
     "metadata": {},
     "output_type": "execute_result"
    }
   ],
   "source": [
    "# use our yelp_api variable's search_query method to perform our API call\n",
    "search_results = yelp_api.search_query(location='Philadelphia, PA',\n",
    "                                       term='Steak')\n",
    "print(type(search_results))\n",
    "search_results.keys()\n",
    "\n"
   ]
  },
  {
   "cell_type": "markdown",
   "id": "93462023",
   "metadata": {},
   "source": [
    "## Create a results-in-progress JSON file, but only if it doesn't exist."
   ]
  },
  {
   "cell_type": "code",
   "execution_count": 16,
   "id": "5809be58",
   "metadata": {},
   "outputs": [
    {
     "data": {
      "text/plain": [
       "'Data/results_in_progress_Philly_steak.json'"
      ]
     },
     "execution_count": 16,
     "metadata": {},
     "output_type": "execute_result"
    }
   ],
   "source": [
    "# Specifying JSON_FILE filename (can include a folder)\n",
    "# include the search terms in the filename\n",
    "JSON_FILE = \"Data/results_in_progress_Philly_steak.json\"\n",
    "JSON_FILE\n",
    "\n"
   ]
  },
  {
   "cell_type": "code",
   "execution_count": 17,
   "id": "ee2b7a8b",
   "metadata": {},
   "outputs": [],
   "source": [
    "import os, json, math, time"
   ]
  },
  {
   "cell_type": "code",
   "execution_count": 45,
   "id": "5d5b29ce",
   "metadata": {},
   "outputs": [],
   "source": [
    "# Code copied from Coding Dojo Learning Platform\n",
    "# If error occurs and need to restart results .json file\n",
    "\n",
    "def create_json_file(JSON_FILE,  delete_if_exists=False):\n",
    "\n",
    "    ## Check if JSON_FILE exists\n",
    "    file_exists = os.path.isfile(JSON_FILE)\n",
    "\n",
    "    ## If it DOES exist:\n",
    "    if file_exists == True:\n",
    "\n",
    "        ## Check if user wants to delete if exists\n",
    "        if delete_if_exists==True:\n",
    "\n",
    "            print(f\"[!] {JSON_FILE} already exists. Deleting previous file...\")\n",
    "            ## delete file and confirm it no longer exits.\n",
    "            os.remove(JSON_FILE)\n",
    "            ## Recursive call to function after old file deleted\n",
    "            create_json_file(JSON_FILE,delete_if_exists=False)\n",
    "        else:\n",
    "            print(f\"[i] {JSON_FILE} already exists.\")            \n",
    "\n",
    "\n",
    "    ## If it does NOT exist:\n",
    "    else:\n",
    "\n",
    "        ## INFORM USER AND SAVE EMPTY LIST\n",
    "        print(f\"[i] {JSON_FILE} not found. Saving empty list to new file.\")\n",
    "\n",
    "        ## CREATE ANY NEEDED FOLDERS\n",
    "        # Get the Folder Name only\n",
    "        folder = os.path.dirname(JSON_FILE)\n",
    "\n",
    "        ## If JSON_FILE included a folder:\n",
    "        if len(folder)>0:\n",
    "            # create the folder\n",
    "            os.makedirs(folder,exist_ok=True)\n",
    "        ## Save empty list to start the json file\n",
    "        with open(JSON_FILE,'w') as f:\n",
    "            json.dump([],f)  "
   ]
  },
  {
   "cell_type": "markdown",
   "id": "c8ec84c5",
   "metadata": {},
   "source": [
    "## Page Results and Variables"
   ]
  },
  {
   "cell_type": "code",
   "execution_count": 50,
   "id": "540d0230",
   "metadata": {},
   "outputs": [
    {
     "name": "stdout",
     "output_type": "stream",
     "text": [
      "[!] Data/results_in_progress_Philly_steak.json already exists. Deleting previous file...\n",
      "[i] Data/results_in_progress_Philly_steak.json not found. Saving empty list to new file.\n",
      "- 0 previous results found.\n"
     ]
    },
    {
     "data": {
      "text/plain": [
       "320"
      ]
     },
     "execution_count": 50,
     "metadata": {},
     "output_type": "execute_result"
    }
   ],
   "source": [
    "## Create a new empty json file (exist the previous if it exists)\n",
    "create_json_file(JSON_FILE, delete_if_exists=True)\n",
    "## Load previous results and use len of results for offset\n",
    "with open(JSON_FILE,'r') as f:\n",
    "    previous_results = json.load(f)\n",
    "    \n",
    "## set offset based on previous results\n",
    "n_results = len(previous_results)\n",
    "print(f'- {n_results} previous results found.')\n",
    "# use our yelp_api variable's search_query method to perform our API call\n",
    "results = yelp_api.search_query(location=LOCATION,\n",
    "                                term=TERM,\n",
    "                               offset=n_results)\n",
    "## How many results total?\n",
    "total_results = results['total']\n",
    "## How many did we get the details for?\n",
    "results_per_page = len(results['businesses'])\n",
    "# Use math.ceil to round up for the total number of pages of results.\n",
    "n_pages = math.ceil((results['total']-n_results)/ results_per_page)\n",
    "n_pages\n",
    "\n",
    "\n",
    "\n"
   ]
  },
  {
   "cell_type": "code",
   "execution_count": 19,
   "id": "6c96f3f7",
   "metadata": {},
   "outputs": [
    {
     "name": "stdout",
     "output_type": "stream",
     "text": [
      "- 0 previous results found.\n"
     ]
    },
    {
     "data": {
      "text/plain": [
       "dict_keys(['businesses', 'total', 'region'])"
      ]
     },
     "execution_count": 19,
     "metadata": {},
     "output_type": "execute_result"
    }
   ],
   "source": [
    "## Load previous results and use len of results for offset\n",
    "with open(JSON_FILE,'r') as f:\n",
    "    previous_results = json.load(f)\n",
    "    \n",
    "## set offset based on previous results\n",
    "n_results = len(previous_results)\n",
    "print(f'- {n_results} previous results found.')\n",
    "\n",
    "# use our yelp_api variable's search_query method to perform our API call\n",
    "results = yelp_api.search_query(location=LOCATION,\n",
    "                                term=TERM,\n",
    "                               offset=n_results)\n",
    "results.keys()\n",
    "\n"
   ]
  },
  {
   "cell_type": "code",
   "execution_count": 18,
   "id": "3ca05be9",
   "metadata": {},
   "outputs": [
    {
     "name": "stdout",
     "output_type": "stream",
     "text": [
      "[i] Data/results_in_progress_Philly_steak.json already exists.\n"
     ]
    }
   ],
   "source": [
    "## Check if JSON_FILE exists\n",
    "file_exists = os.path.isfile(JSON_FILE)\n",
    "## If it does not exist: \n",
    "if file_exists == False:\n",
    "    \n",
    "    ## CREATE ANY NEEDED FOLDERS\n",
    "    # Get the Folder Name only\n",
    "    folder = os.path.dirname(JSON_FILE)\n",
    "    ## If JSON_FILE included a folder:\n",
    "    if len(folder)>0:\n",
    "        # create the folder\n",
    "        os.makedirs(folder,exist_ok=True)\n",
    "        \n",
    "        \n",
    "    ## INFORM USER AND SAVE EMPTY LIST\n",
    "    print(f'[i] {JSON_FILE} not found. Saving empty list to file.')\n",
    "    \n",
    "    \n",
    "    # save an empty list\n",
    "    with open(JSON_FILE,'w') as f:\n",
    "        json.dump([],f)  \n",
    "# If it exists, inform user\n",
    "else:\n",
    "    print(f\"[i] {JSON_FILE} already exists.\")\n"
   ]
  },
  {
   "cell_type": "code",
   "execution_count": 22,
   "id": "4ae76f5b",
   "metadata": {},
   "outputs": [
    {
     "name": "stdout",
     "output_type": "stream",
     "text": [
      "6400\n",
      "20\n"
     ]
    }
   ],
   "source": [
    "## How many results total?\n",
    "total_results = results['total']\n",
    "total_results\n",
    "\n",
    "## How many did we get the details for?\n",
    "results_per_page = len(results['businesses'])\n",
    "results_per_page\n",
    "\n",
    "print(total_results)\n",
    "print(results_per_page)"
   ]
  },
  {
   "cell_type": "code",
   "execution_count": 54,
   "id": "f0c3c2b3",
   "metadata": {},
   "outputs": [
    {
     "data": {
      "application/vnd.jupyter.widget-view+json": {
       "model_id": "6fd1a46dfac64a279a168fb85a8752af",
       "version_major": 2,
       "version_minor": 0
      },
      "text/plain": [
       "  0%|          | 0/320 [00:00<?, ?it/s]"
      ]
     },
     "metadata": {},
     "output_type": "display_data"
    },
    {
     "name": "stdout",
     "output_type": "stream",
     "text": [
      "Exceeded 1000 api calls. Stopping loop.\n"
     ]
    }
   ],
   "source": [
    "for i in tqdm_notebook( range(1,n_pages+1)):\n",
    "    \n",
    "    ## Read in results in progress file and check the length\n",
    "    with open(JSON_FILE, 'r') as f:\n",
    "        previous_results = json.load(f)\n",
    "    ## save number of results for to use as offset\n",
    "    n_results = len(previous_results)\n",
    "    \n",
    "    if (n_results + results_per_page) > 1000:\n",
    "        print('Exceeded 1000 api calls. Stopping loop.')\n",
    "        break\n",
    "    \n",
    "    ## use n_results as the OFFSET \n",
    "    results = yelp_api.search_query(location=LOCATION,\n",
    "                                    term=TERM, \n",
    "                                    offset=n_results)\n",
    "    \n",
    "    \n",
    "    \n",
    "    ## append new results and save to file\n",
    "    previous_results.extend(results['businesses'])\n",
    "    \n",
    "    # display(previous_results)\n",
    "    with open(JSON_FILE,'w') as f:\n",
    "        json.dump(previous_results,f)\n",
    "    \n",
    "    time.sleep(.2)\n",
    "\n"
   ]
  },
  {
   "cell_type": "markdown",
   "id": "6521774e",
   "metadata": {},
   "source": [
    "## Convert .json to Dataframe"
   ]
  },
  {
   "cell_type": "code",
   "execution_count": 55,
   "id": "2734b11c",
   "metadata": {},
   "outputs": [
    {
     "data": {
      "text/html": [
       "<div>\n",
       "<style scoped>\n",
       "    .dataframe tbody tr th:only-of-type {\n",
       "        vertical-align: middle;\n",
       "    }\n",
       "\n",
       "    .dataframe tbody tr th {\n",
       "        vertical-align: top;\n",
       "    }\n",
       "\n",
       "    .dataframe thead th {\n",
       "        text-align: right;\n",
       "    }\n",
       "</style>\n",
       "<table border=\"1\" class=\"dataframe\">\n",
       "  <thead>\n",
       "    <tr style=\"text-align: right;\">\n",
       "      <th></th>\n",
       "      <th>id</th>\n",
       "      <th>alias</th>\n",
       "      <th>name</th>\n",
       "      <th>image_url</th>\n",
       "      <th>is_closed</th>\n",
       "      <th>url</th>\n",
       "      <th>review_count</th>\n",
       "      <th>categories</th>\n",
       "      <th>rating</th>\n",
       "      <th>coordinates</th>\n",
       "      <th>transactions</th>\n",
       "      <th>price</th>\n",
       "      <th>location</th>\n",
       "      <th>phone</th>\n",
       "      <th>display_phone</th>\n",
       "      <th>distance</th>\n",
       "    </tr>\n",
       "  </thead>\n",
       "  <tbody>\n",
       "    <tr>\n",
       "      <th>0</th>\n",
       "      <td>0oSSjekU-3GR8gselReWnA</td>\n",
       "      <td>butcher-and-singer-philadelphia</td>\n",
       "      <td>Butcher and Singer</td>\n",
       "      <td>https://s3-media4.fl.yelpcdn.com/bphoto/54_xSX...</td>\n",
       "      <td>False</td>\n",
       "      <td>https://www.yelp.com/biz/butcher-and-singer-ph...</td>\n",
       "      <td>1425</td>\n",
       "      <td>[{'alias': 'tradamerican', 'title': 'American ...</td>\n",
       "      <td>4.5</td>\n",
       "      <td>{'latitude': 39.9493338, 'longitude': -75.1661...</td>\n",
       "      <td>[pickup, delivery]</td>\n",
       "      <td>$$$$</td>\n",
       "      <td>{'address1': '1500 Walnut St', 'address2': '',...</td>\n",
       "      <td>+12157324444</td>\n",
       "      <td>(215) 732-4444</td>\n",
       "      <td>7186.326378</td>\n",
       "    </tr>\n",
       "    <tr>\n",
       "      <th>1</th>\n",
       "      <td>hyFzDuyOWNG2rg5GYJ2wiQ</td>\n",
       "      <td>alpen-rose-philadelphia</td>\n",
       "      <td>Alpen Rose</td>\n",
       "      <td>https://s3-media3.fl.yelpcdn.com/bphoto/z7yQXG...</td>\n",
       "      <td>False</td>\n",
       "      <td>https://www.yelp.com/biz/alpen-rose-philadelph...</td>\n",
       "      <td>226</td>\n",
       "      <td>[{'alias': 'steak', 'title': 'Steakhouses'}, {...</td>\n",
       "      <td>4.5</td>\n",
       "      <td>{'latitude': 39.949778, 'longitude': -75.16215...</td>\n",
       "      <td>[delivery]</td>\n",
       "      <td>NaN</td>\n",
       "      <td>{'address1': '116 S 13th St', 'address2': '', ...</td>\n",
       "      <td>+12156000709</td>\n",
       "      <td>(215) 600-0709</td>\n",
       "      <td>6953.276252</td>\n",
       "    </tr>\n",
       "    <tr>\n",
       "      <th>2</th>\n",
       "      <td>saVXla5i8TjE51S5uCaf6w</td>\n",
       "      <td>steak-48-philadelphia-3</td>\n",
       "      <td>Steak 48</td>\n",
       "      <td>https://s3-media4.fl.yelpcdn.com/bphoto/Q66TvQ...</td>\n",
       "      <td>False</td>\n",
       "      <td>https://www.yelp.com/biz/steak-48-philadelphia...</td>\n",
       "      <td>244</td>\n",
       "      <td>[{'alias': 'steak', 'title': 'Steakhouses'}, {...</td>\n",
       "      <td>4.0</td>\n",
       "      <td>{'latitude': 39.947286, 'longitude': -75.165197}</td>\n",
       "      <td>[]</td>\n",
       "      <td>$$$$</td>\n",
       "      <td>{'address1': '260 S Broad St', 'address2': Non...</td>\n",
       "      <td>+12155524848</td>\n",
       "      <td>(215) 552-4848</td>\n",
       "      <td>7327.302098</td>\n",
       "    </tr>\n",
       "    <tr>\n",
       "      <th>3</th>\n",
       "      <td>4Qi3Ry_lz4V3BM1frq87VA</td>\n",
       "      <td>umami-steak-and-sushi-bar-philadelphia-2</td>\n",
       "      <td>Umami Steak &amp; Sushi Bar</td>\n",
       "      <td>https://s3-media3.fl.yelpcdn.com/bphoto/oR_TVA...</td>\n",
       "      <td>False</td>\n",
       "      <td>https://www.yelp.com/biz/umami-steak-and-sushi...</td>\n",
       "      <td>72</td>\n",
       "      <td>[{'alias': 'japanese', 'title': 'Japanese'}, {...</td>\n",
       "      <td>4.5</td>\n",
       "      <td>{'latitude': 39.948221, 'longitude': -75.153647}</td>\n",
       "      <td>[pickup, delivery]</td>\n",
       "      <td>NaN</td>\n",
       "      <td>{'address1': '727 Walnut Street Basement', 'ad...</td>\n",
       "      <td>+12675345395</td>\n",
       "      <td>(267) 534-5395</td>\n",
       "      <td>6753.167085</td>\n",
       "    </tr>\n",
       "    <tr>\n",
       "      <th>4</th>\n",
       "      <td>wbDRmtxaKRpBOjutvV6TEA</td>\n",
       "      <td>barclay-prime-philadelphia</td>\n",
       "      <td>Barclay Prime</td>\n",
       "      <td>https://s3-media1.fl.yelpcdn.com/bphoto/KSBuz7...</td>\n",
       "      <td>False</td>\n",
       "      <td>https://www.yelp.com/biz/barclay-prime-philade...</td>\n",
       "      <td>878</td>\n",
       "      <td>[{'alias': 'steak', 'title': 'Steakhouses'}]</td>\n",
       "      <td>4.5</td>\n",
       "      <td>{'latitude': 39.9487096, 'longitude': -75.1708...</td>\n",
       "      <td>[pickup, delivery]</td>\n",
       "      <td>$$$$</td>\n",
       "      <td>{'address1': '237 S 18th St', 'address2': None...</td>\n",
       "      <td>+12157327560</td>\n",
       "      <td>(215) 732-7560</td>\n",
       "      <td>7479.015315</td>\n",
       "    </tr>\n",
       "  </tbody>\n",
       "</table>\n",
       "</div>"
      ],
      "text/plain": [
       "                       id                                     alias  \\\n",
       "0  0oSSjekU-3GR8gselReWnA           butcher-and-singer-philadelphia   \n",
       "1  hyFzDuyOWNG2rg5GYJ2wiQ                   alpen-rose-philadelphia   \n",
       "2  saVXla5i8TjE51S5uCaf6w                   steak-48-philadelphia-3   \n",
       "3  4Qi3Ry_lz4V3BM1frq87VA  umami-steak-and-sushi-bar-philadelphia-2   \n",
       "4  wbDRmtxaKRpBOjutvV6TEA                barclay-prime-philadelphia   \n",
       "\n",
       "                      name                                          image_url  \\\n",
       "0       Butcher and Singer  https://s3-media4.fl.yelpcdn.com/bphoto/54_xSX...   \n",
       "1               Alpen Rose  https://s3-media3.fl.yelpcdn.com/bphoto/z7yQXG...   \n",
       "2                 Steak 48  https://s3-media4.fl.yelpcdn.com/bphoto/Q66TvQ...   \n",
       "3  Umami Steak & Sushi Bar  https://s3-media3.fl.yelpcdn.com/bphoto/oR_TVA...   \n",
       "4            Barclay Prime  https://s3-media1.fl.yelpcdn.com/bphoto/KSBuz7...   \n",
       "\n",
       "   is_closed                                                url  review_count  \\\n",
       "0      False  https://www.yelp.com/biz/butcher-and-singer-ph...          1425   \n",
       "1      False  https://www.yelp.com/biz/alpen-rose-philadelph...           226   \n",
       "2      False  https://www.yelp.com/biz/steak-48-philadelphia...           244   \n",
       "3      False  https://www.yelp.com/biz/umami-steak-and-sushi...            72   \n",
       "4      False  https://www.yelp.com/biz/barclay-prime-philade...           878   \n",
       "\n",
       "                                          categories  rating  \\\n",
       "0  [{'alias': 'tradamerican', 'title': 'American ...     4.5   \n",
       "1  [{'alias': 'steak', 'title': 'Steakhouses'}, {...     4.5   \n",
       "2  [{'alias': 'steak', 'title': 'Steakhouses'}, {...     4.0   \n",
       "3  [{'alias': 'japanese', 'title': 'Japanese'}, {...     4.5   \n",
       "4       [{'alias': 'steak', 'title': 'Steakhouses'}]     4.5   \n",
       "\n",
       "                                         coordinates        transactions  \\\n",
       "0  {'latitude': 39.9493338, 'longitude': -75.1661...  [pickup, delivery]   \n",
       "1  {'latitude': 39.949778, 'longitude': -75.16215...          [delivery]   \n",
       "2   {'latitude': 39.947286, 'longitude': -75.165197}                  []   \n",
       "3   {'latitude': 39.948221, 'longitude': -75.153647}  [pickup, delivery]   \n",
       "4  {'latitude': 39.9487096, 'longitude': -75.1708...  [pickup, delivery]   \n",
       "\n",
       "  price                                           location         phone  \\\n",
       "0  $$$$  {'address1': '1500 Walnut St', 'address2': '',...  +12157324444   \n",
       "1   NaN  {'address1': '116 S 13th St', 'address2': '', ...  +12156000709   \n",
       "2  $$$$  {'address1': '260 S Broad St', 'address2': Non...  +12155524848   \n",
       "3   NaN  {'address1': '727 Walnut Street Basement', 'ad...  +12675345395   \n",
       "4  $$$$  {'address1': '237 S 18th St', 'address2': None...  +12157327560   \n",
       "\n",
       "    display_phone     distance  \n",
       "0  (215) 732-4444  7186.326378  \n",
       "1  (215) 600-0709  6953.276252  \n",
       "2  (215) 552-4848  7327.302098  \n",
       "3  (267) 534-5395  6753.167085  \n",
       "4  (215) 732-7560  7479.015315  "
      ]
     },
     "metadata": {},
     "output_type": "display_data"
    },
    {
     "data": {
      "text/html": [
       "<div>\n",
       "<style scoped>\n",
       "    .dataframe tbody tr th:only-of-type {\n",
       "        vertical-align: middle;\n",
       "    }\n",
       "\n",
       "    .dataframe tbody tr th {\n",
       "        vertical-align: top;\n",
       "    }\n",
       "\n",
       "    .dataframe thead th {\n",
       "        text-align: right;\n",
       "    }\n",
       "</style>\n",
       "<table border=\"1\" class=\"dataframe\">\n",
       "  <thead>\n",
       "    <tr style=\"text-align: right;\">\n",
       "      <th></th>\n",
       "      <th>id</th>\n",
       "      <th>alias</th>\n",
       "      <th>name</th>\n",
       "      <th>image_url</th>\n",
       "      <th>is_closed</th>\n",
       "      <th>url</th>\n",
       "      <th>review_count</th>\n",
       "      <th>categories</th>\n",
       "      <th>rating</th>\n",
       "      <th>coordinates</th>\n",
       "      <th>transactions</th>\n",
       "      <th>price</th>\n",
       "      <th>location</th>\n",
       "      <th>phone</th>\n",
       "      <th>display_phone</th>\n",
       "      <th>distance</th>\n",
       "    </tr>\n",
       "  </thead>\n",
       "  <tbody>\n",
       "    <tr>\n",
       "      <th>995</th>\n",
       "      <td>Rt4xYQBWC8i2xqLp9dP7XQ</td>\n",
       "      <td>jims-steaks-springfield</td>\n",
       "      <td>Jim's Steaks</td>\n",
       "      <td>https://s3-media3.fl.yelpcdn.com/bphoto/-GbmbO...</td>\n",
       "      <td>False</td>\n",
       "      <td>https://www.yelp.com/biz/jims-steaks-springfie...</td>\n",
       "      <td>127</td>\n",
       "      <td>[{'alias': 'steak', 'title': 'Steakhouses'}]</td>\n",
       "      <td>3.0</td>\n",
       "      <td>{'latitude': 39.9207126, 'longitude': -75.3230...</td>\n",
       "      <td>[delivery]</td>\n",
       "      <td>$$</td>\n",
       "      <td>{'address1': '469 Baltimore Pike', 'address2':...</td>\n",
       "      <td>+16105448400</td>\n",
       "      <td>(610) 544-8400</td>\n",
       "      <td>19726.827221</td>\n",
       "    </tr>\n",
       "    <tr>\n",
       "      <th>996</th>\n",
       "      <td>1j7Y1eek07NRv_SkBOJFgA</td>\n",
       "      <td>the-ridley-house-holmes-2</td>\n",
       "      <td>The Ridley House</td>\n",
       "      <td>https://s3-media2.fl.yelpcdn.com/bphoto/Wt22zK...</td>\n",
       "      <td>False</td>\n",
       "      <td>https://www.yelp.com/biz/the-ridley-house-holm...</td>\n",
       "      <td>74</td>\n",
       "      <td>[{'alias': 'bars', 'title': 'Bars'}, {'alias':...</td>\n",
       "      <td>3.5</td>\n",
       "      <td>{'latitude': 39.89753306828397, 'longitude': -...</td>\n",
       "      <td>[]</td>\n",
       "      <td>$$</td>\n",
       "      <td>{'address1': '2107 Mac Dade Blvd Holmes Pa', '...</td>\n",
       "      <td>+16105225400</td>\n",
       "      <td>(610) 522-5400</td>\n",
       "      <td>20202.842356</td>\n",
       "    </tr>\n",
       "    <tr>\n",
       "      <th>997</th>\n",
       "      <td>Rs5OWq7WbdtPMDHC6c5pzg</td>\n",
       "      <td>city-steaks-burlington</td>\n",
       "      <td>City Steaks</td>\n",
       "      <td>https://s3-media2.fl.yelpcdn.com/bphoto/Is9Zdr...</td>\n",
       "      <td>False</td>\n",
       "      <td>https://www.yelp.com/biz/city-steaks-burlingto...</td>\n",
       "      <td>54</td>\n",
       "      <td>[{'alias': 'sandwiches', 'title': 'Sandwiches'}]</td>\n",
       "      <td>4.5</td>\n",
       "      <td>{'latitude': 40.0678291, 'longitude': -74.8540...</td>\n",
       "      <td>[delivery, pickup]</td>\n",
       "      <td>$</td>\n",
       "      <td>{'address1': '818 High St', 'address2': '', 'a...</td>\n",
       "      <td>+16093863600</td>\n",
       "      <td>(609) 386-3600</td>\n",
       "      <td>23607.813352</td>\n",
       "    </tr>\n",
       "    <tr>\n",
       "      <th>998</th>\n",
       "      <td>xxX7E2q0Rpw1LK3aX2b-YQ</td>\n",
       "      <td>mexican-grill-and-pizza-phila</td>\n",
       "      <td>Mexican Grill &amp; Pizza</td>\n",
       "      <td>https://s3-media4.fl.yelpcdn.com/bphoto/6yZgX7...</td>\n",
       "      <td>False</td>\n",
       "      <td>https://www.yelp.com/biz/mexican-grill-and-piz...</td>\n",
       "      <td>2</td>\n",
       "      <td>[{'alias': 'mexican', 'title': 'Mexican'}]</td>\n",
       "      <td>4.5</td>\n",
       "      <td>{'latitude': 40.00157, 'longitude': -75.22311}</td>\n",
       "      <td>[delivery, pickup]</td>\n",
       "      <td>NaN</td>\n",
       "      <td>{'address1': '2749 N 47th St', 'address2': Non...</td>\n",
       "      <td></td>\n",
       "      <td></td>\n",
       "      <td>8987.056031</td>\n",
       "    </tr>\n",
       "    <tr>\n",
       "      <th>999</th>\n",
       "      <td>03cvVjbkCOtiIt51M-MLFg</td>\n",
       "      <td>prime-halal-meat-philadelphia</td>\n",
       "      <td>Prime Halal Meat</td>\n",
       "      <td>https://s3-media4.fl.yelpcdn.com/bphoto/InPurt...</td>\n",
       "      <td>False</td>\n",
       "      <td>https://www.yelp.com/biz/prime-halal-meat-phil...</td>\n",
       "      <td>69</td>\n",
       "      <td>[{'alias': 'meats', 'title': 'Meat Shops'}, {'...</td>\n",
       "      <td>4.5</td>\n",
       "      <td>{'latitude': 39.9463154, 'longitude': -75.1797...</td>\n",
       "      <td>[delivery]</td>\n",
       "      <td>$</td>\n",
       "      <td>{'address1': '500 S 23rd St', 'address2': '', ...</td>\n",
       "      <td>+12157358185</td>\n",
       "      <td>(215) 735-8185</td>\n",
       "      <td>8162.064074</td>\n",
       "    </tr>\n",
       "  </tbody>\n",
       "</table>\n",
       "</div>"
      ],
      "text/plain": [
       "                         id                          alias  \\\n",
       "995  Rt4xYQBWC8i2xqLp9dP7XQ        jims-steaks-springfield   \n",
       "996  1j7Y1eek07NRv_SkBOJFgA      the-ridley-house-holmes-2   \n",
       "997  Rs5OWq7WbdtPMDHC6c5pzg         city-steaks-burlington   \n",
       "998  xxX7E2q0Rpw1LK3aX2b-YQ  mexican-grill-and-pizza-phila   \n",
       "999  03cvVjbkCOtiIt51M-MLFg  prime-halal-meat-philadelphia   \n",
       "\n",
       "                      name                                          image_url  \\\n",
       "995           Jim's Steaks  https://s3-media3.fl.yelpcdn.com/bphoto/-GbmbO...   \n",
       "996       The Ridley House  https://s3-media2.fl.yelpcdn.com/bphoto/Wt22zK...   \n",
       "997            City Steaks  https://s3-media2.fl.yelpcdn.com/bphoto/Is9Zdr...   \n",
       "998  Mexican Grill & Pizza  https://s3-media4.fl.yelpcdn.com/bphoto/6yZgX7...   \n",
       "999       Prime Halal Meat  https://s3-media4.fl.yelpcdn.com/bphoto/InPurt...   \n",
       "\n",
       "     is_closed                                                url  \\\n",
       "995      False  https://www.yelp.com/biz/jims-steaks-springfie...   \n",
       "996      False  https://www.yelp.com/biz/the-ridley-house-holm...   \n",
       "997      False  https://www.yelp.com/biz/city-steaks-burlingto...   \n",
       "998      False  https://www.yelp.com/biz/mexican-grill-and-piz...   \n",
       "999      False  https://www.yelp.com/biz/prime-halal-meat-phil...   \n",
       "\n",
       "     review_count                                         categories  rating  \\\n",
       "995           127       [{'alias': 'steak', 'title': 'Steakhouses'}]     3.0   \n",
       "996            74  [{'alias': 'bars', 'title': 'Bars'}, {'alias':...     3.5   \n",
       "997            54   [{'alias': 'sandwiches', 'title': 'Sandwiches'}]     4.5   \n",
       "998             2         [{'alias': 'mexican', 'title': 'Mexican'}]     4.5   \n",
       "999            69  [{'alias': 'meats', 'title': 'Meat Shops'}, {'...     4.5   \n",
       "\n",
       "                                           coordinates        transactions  \\\n",
       "995  {'latitude': 39.9207126, 'longitude': -75.3230...          [delivery]   \n",
       "996  {'latitude': 39.89753306828397, 'longitude': -...                  []   \n",
       "997  {'latitude': 40.0678291, 'longitude': -74.8540...  [delivery, pickup]   \n",
       "998     {'latitude': 40.00157, 'longitude': -75.22311}  [delivery, pickup]   \n",
       "999  {'latitude': 39.9463154, 'longitude': -75.1797...          [delivery]   \n",
       "\n",
       "    price                                           location         phone  \\\n",
       "995    $$  {'address1': '469 Baltimore Pike', 'address2':...  +16105448400   \n",
       "996    $$  {'address1': '2107 Mac Dade Blvd Holmes Pa', '...  +16105225400   \n",
       "997     $  {'address1': '818 High St', 'address2': '', 'a...  +16093863600   \n",
       "998   NaN  {'address1': '2749 N 47th St', 'address2': Non...                 \n",
       "999     $  {'address1': '500 S 23rd St', 'address2': '', ...  +12157358185   \n",
       "\n",
       "      display_phone      distance  \n",
       "995  (610) 544-8400  19726.827221  \n",
       "996  (610) 522-5400  20202.842356  \n",
       "997  (609) 386-3600  23607.813352  \n",
       "998                   8987.056031  \n",
       "999  (215) 735-8185   8162.064074  "
      ]
     },
     "metadata": {},
     "output_type": "display_data"
    }
   ],
   "source": [
    "# load final results\n",
    "final_df = pd.read_json(JSON_FILE)\n",
    "display(final_df.head(), final_df.tail())\n"
   ]
  },
  {
   "cell_type": "markdown",
   "id": "4faa7c83",
   "metadata": {},
   "source": [
    "## Check for and remove any duplicate results."
   ]
  },
  {
   "cell_type": "markdown",
   "id": "a9f3ae86",
   "metadata": {},
   "source": [
    "Location, coordinates and categories are lists so we can't check for\n",
    "duplicates using those columns. We will use the id column to check for any\n",
    "duplicate rows.\n",
    "\n"
   ]
  },
  {
   "cell_type": "code",
   "execution_count": 58,
   "id": "d11fc6a1",
   "metadata": {},
   "outputs": [
    {
     "data": {
      "text/plain": [
       "0"
      ]
     },
     "execution_count": 58,
     "metadata": {},
     "output_type": "execute_result"
    }
   ],
   "source": [
    "final_df.duplicated(subset='id').sum()"
   ]
  },
  {
   "cell_type": "markdown",
   "id": "be7d69ff",
   "metadata": {},
   "source": [
    "- There are no duplicates"
   ]
  },
  {
   "cell_type": "markdown",
   "id": "74f711a7",
   "metadata": {},
   "source": [
    "## Save the dataframe to a .csv file or .csv.gz if too big."
   ]
  },
  {
   "cell_type": "code",
   "execution_count": 59,
   "id": "1e0aedcb",
   "metadata": {},
   "outputs": [],
   "source": [
    "# save the final results to a compressed csv\n",
    "final_df.to_csv('Data/final_results_Philly_Steak.csv.gz', compression='gzip',index=False)"
   ]
  },
  {
   "cell_type": "code",
   "execution_count": null,
   "id": "bb7cf9cf",
   "metadata": {},
   "outputs": [],
   "source": []
  }
 ],
 "metadata": {
  "kernelspec": {
   "display_name": "Python (dojo-env)",
   "language": "python",
   "name": "dojo-env"
  },
  "language_info": {
   "codemirror_mode": {
    "name": "ipython",
    "version": 3
   },
   "file_extension": ".py",
   "mimetype": "text/x-python",
   "name": "python",
   "nbconvert_exporter": "python",
   "pygments_lexer": "ipython3",
   "version": "3.9.15"
  },
  "toc": {
   "base_numbering": 1,
   "nav_menu": {},
   "number_sections": true,
   "sideBar": true,
   "skip_h1_title": false,
   "title_cell": "Table of Contents",
   "title_sidebar": "Contents",
   "toc_cell": false,
   "toc_position": {},
   "toc_section_display": true,
   "toc_window_display": false
  }
 },
 "nbformat": 4,
 "nbformat_minor": 5
}
